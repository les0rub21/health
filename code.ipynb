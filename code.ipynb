{
 "cells": [
  {
   "cell_type": "code",
   "execution_count": 1,
   "metadata": {},
   "outputs": [
    {
     "name": "stdout",
     "output_type": "stream",
     "text": [
      "Requirement already satisfied: pandas in /Library/Frameworks/Python.framework/Versions/3.13/lib/python3.13/site-packages (2.2.3)\n",
      "Requirement already satisfied: numpy>=1.26.0 in /Library/Frameworks/Python.framework/Versions/3.13/lib/python3.13/site-packages (from pandas) (2.2.2)\n",
      "Requirement already satisfied: python-dateutil>=2.8.2 in /Users/dmitrysivchenko/Library/Python/3.13/lib/python/site-packages (from pandas) (2.9.0.post0)\n",
      "Requirement already satisfied: pytz>=2020.1 in /Library/Frameworks/Python.framework/Versions/3.13/lib/python3.13/site-packages (from pandas) (2024.2)\n",
      "Requirement already satisfied: tzdata>=2022.7 in /Library/Frameworks/Python.framework/Versions/3.13/lib/python3.13/site-packages (from pandas) (2024.2)\n",
      "Requirement already satisfied: six>=1.5 in /Users/dmitrysivchenko/Library/Python/3.13/lib/python/site-packages (from python-dateutil>=2.8.2->pandas) (1.17.0)\n",
      "Note: you may need to restart the kernel to use updated packages.\n",
      "Requirement already satisfied: matplotlib in /Library/Frameworks/Python.framework/Versions/3.13/lib/python3.13/site-packages (3.10.0)\n",
      "Requirement already satisfied: contourpy>=1.0.1 in /Library/Frameworks/Python.framework/Versions/3.13/lib/python3.13/site-packages (from matplotlib) (1.3.1)\n",
      "Requirement already satisfied: cycler>=0.10 in /Library/Frameworks/Python.framework/Versions/3.13/lib/python3.13/site-packages (from matplotlib) (0.12.1)\n",
      "Requirement already satisfied: fonttools>=4.22.0 in /Library/Frameworks/Python.framework/Versions/3.13/lib/python3.13/site-packages (from matplotlib) (4.55.3)\n",
      "Requirement already satisfied: kiwisolver>=1.3.1 in /Library/Frameworks/Python.framework/Versions/3.13/lib/python3.13/site-packages (from matplotlib) (1.4.8)\n",
      "Requirement already satisfied: numpy>=1.23 in /Library/Frameworks/Python.framework/Versions/3.13/lib/python3.13/site-packages (from matplotlib) (2.2.2)\n",
      "Requirement already satisfied: packaging>=20.0 in /Users/dmitrysivchenko/Library/Python/3.13/lib/python/site-packages (from matplotlib) (24.2)\n",
      "Requirement already satisfied: pillow>=8 in /Library/Frameworks/Python.framework/Versions/3.13/lib/python3.13/site-packages (from matplotlib) (11.1.0)\n",
      "Requirement already satisfied: pyparsing>=2.3.1 in /Library/Frameworks/Python.framework/Versions/3.13/lib/python3.13/site-packages (from matplotlib) (3.2.1)\n",
      "Requirement already satisfied: python-dateutil>=2.7 in /Users/dmitrysivchenko/Library/Python/3.13/lib/python/site-packages (from matplotlib) (2.9.0.post0)\n",
      "Requirement already satisfied: six>=1.5 in /Users/dmitrysivchenko/Library/Python/3.13/lib/python/site-packages (from python-dateutil>=2.7->matplotlib) (1.17.0)\n",
      "Note: you may need to restart the kernel to use updated packages.\n",
      "      age     bmi smoker      charges\n",
      "0      19  27.900    yes  16884.92400\n",
      "1      18  33.770     no   1725.55230\n",
      "2      28  33.000     no   4449.46200\n",
      "3      33  22.705     no  21984.47061\n",
      "4      32  28.880     no   3866.85520\n",
      "...   ...     ...    ...          ...\n",
      "1333   50  30.970     no  10600.54830\n",
      "1334   18  31.920     no   2205.98080\n",
      "1335   18  36.850     no   1629.83350\n",
      "1336   21  25.800     no   2007.94500\n",
      "1337   61  29.070    yes  29141.36030\n",
      "\n",
      "[1338 rows x 4 columns]\n",
      "Matrix: \n",
      "            Unnamed: 0       age       bmi   charges\n",
      "Unnamed: 0    1.000000 -0.031467 -0.036169 -0.003373\n",
      "age          -0.031467  1.000000  0.109272  0.299008\n",
      "bmi          -0.036169  0.109272  1.000000  0.198341\n",
      "charges      -0.003373  0.299008  0.198341  1.000000\n"
     ]
    },
    {
     "data": {
      "image/png": "[encoded data removed]",
      "text/plain": [
       "<Figure size 1000x600 with 2 Axes>"
      ]
     },
     "metadata": {},
     "output_type": "display_data"
    },
    {
     "name": "stdout",
     "output_type": "stream",
     "text": [
      "<class 'pandas.core.frame.DataFrame'>\n",
      "      age        kosten\n",
      "543    54  191412.69403\n",
      "1300   45  187853.97927\n",
      "1230   52  180150.68191\n",
      "577    31  175782.31844\n",
      "819    33  165474.73627\n",
      "...   ...           ...\n",
      "22     18    1189.11100\n",
      "663    18    1188.05940\n",
      "1244   18    1187.27070\n",
      "808    18    1179.64660\n",
      "940    18    1163.08390\n",
      "\n",
      "[1338 rows x 2 columns]\n"
     ]
    }
   ],
   "source": [
    "%pip install pandas\n",
    "%pip install matplotlib\n",
    "import pandas as pd \n",
    "import matplotlib.pyplot as plt \n",
    "\n",
    "df = pd.read_csv(\"./insurance.csv\")\n",
    "relevant_columns = [\"age\",\"bmi\",\"smoker\",\"charges\"]\n",
    "cleaned = df[relevant_columns]\n",
    "print (cleaned)\n",
    "cleaned.to_csv(\"./cleaned_data.csv\")\n",
    "\n",
    "data = pd.read_csv(\"./cleaned_data.csv\")\n",
    "numeric_data = data.select_dtypes([\"number\"])\n",
    "\n",
    "correlation = numeric_data.corr()\n",
    "print(\"Matrix: \")\n",
    "print(correlation)\n",
    "\n",
    "plt.figure(figsize=(10,6))\n",
    "plt.title(\"Matrix\", fontsize = 14)\n",
    "plt.imshow(correlation, cmap = \"coolwarm\", interpolation=\"none\")\n",
    "plt.colorbar()\n",
    "plt.xticks(range(len(correlation.columns)), correlation.columns)\n",
    "plt.yticks(range(len(correlation.columns)), correlation.columns)\n",
    "plt.show()\n",
    "\n",
    "\n",
    "def rechnen (row):\n",
    "    kosten = 0\n",
    "    kosten += row[\"bmi\"]\n",
    "    kosten += row[\"age\"]\n",
    "    if row [\"smoker\"]==\"yes\":\n",
    "        kosten += row[\"charges\"]*1.5\n",
    "    else:\n",
    "        kosten += row [\"charges\"]\n",
    "    return kosten\n",
    "data[\"kosten\"] = data.apply(rechnen, axis=1)\n",
    "print(data[[\"age\",\"kosten\"]].sort_values(by=\"kosten\", ascending = False))"
   ]
  },
  {
   "cell_type": "code",
   "execution_count": null,
   "metadata": {},
   "outputs": [],
   "source": []
  }
 ],
 "metadata": {
  "kernelspec": {
   "display_name": "Python 3",
   "language": "python",
   "name": "python3"
  },
  "language_info": {
   "codemirror_mode": {
    "name": "ipython",
    "version": 3
   },
   "file_extension": ".py",
   "mimetype": "text/x-python",
   "name": "python",
   "nbconvert_exporter": "python",
   "pygments_lexer": "ipython3",
   "version": "3.13.1"
  }
 },
 "nbformat": 4,
 "nbformat_minor": 2
}
